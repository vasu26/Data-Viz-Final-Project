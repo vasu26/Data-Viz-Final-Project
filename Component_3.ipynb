{
 "cells": [
  {
   "cell_type": "code",
   "execution_count": 1,
   "metadata": {},
   "outputs": [],
   "source": [
    "%matplotlib notebook\n",
    "import pandas as pd\n",
    "import bqplot \n",
    "import us\n",
    "from bqplot import (\n",
    "    LogScale, LinearScale, OrdinalColorScale, ColorAxis,\n",
    "    Axis,DateScale, Scatter, Lines, CATEGORY10, Label, Figure, Tooltip\n",
    ")\n",
    "from bqplot import pyplot as plt\n",
    "from bqplot.interacts import (\n",
    "    FastIntervalSelector, IndexSelector, BrushIntervalSelector,\n",
    "    BrushSelector, MultiSelector, LassoSelector, PanZoom, HandDraw\n",
    ")\n",
    "from ipywidgets import interact, HBox, VBox, Dropdown, HTML, Checkbox\n",
    "\n",
    "from IPython.display import display\n",
    "names = [\"date\", \"city\", \"state\", \"country\", \"shape\", \"duration_seconds\",\n",
    "         \"duration_reported\", \"description\", \"report_date\", \"latitude\",\n",
    "         \"longitude\"]\n",
    "\n",
    "#fn = \"/srv/nbgrader/data/ufo-scrubbed-geocoded-time-standardized.csv\"\n",
    "fn = \"/ufo-scrubbed-geocoded-time-standardized.csv\"\n",
    "ufo = pd.read_csv(fn, names = names, parse_dates = [\"date\", \"report_date\"])\n",
    "\n",
    "# Uploading the dataset for normalization\n",
    "area_dataset = \"/area_dataset.csv\"\n",
    "columns=['fips','STATE','land_area']\n",
    "land_area = pd.read_csv(area_dataset, names = columns)"
   ]
  },
  {
   "cell_type": "code",
   "execution_count": 2,
   "metadata": {},
   "outputs": [],
   "source": [
    "abbr_to_fits = us.states.mapping('abbr', 'fips')\n",
    "ufo[\"fips\"] = ufo[\"state\"].apply(lambda a: int(abbr_to_fits.get(str(a).upper(), -1)))"
   ]
  },
  {
   "cell_type": "code",
   "execution_count": 3,
   "metadata": {
    "collapsed": true,
    "scrolled": true
   },
   "outputs": [],
   "source": [
    "#Merging it with the ufo dataset\n",
    "ufo = ufo.merge(land_area,on='fips',how='inner')\n",
    "\n",
    "#data cleaning - more adddition needed\n",
    "ufo.dropna()\n",
    "ufo = ufo[ufo['fips']!=-1 ]\n",
    "#removing washington dc \n",
    "ufo = ufo[ufo['fips']!=11]\n",
    "#Adding year as a part of the dataset\n",
    "ufo['year']=ufo['date'].dt.year\n",
    "ufo['duration_hours'] = (ufo['duration_seconds']/3600)"
   ]
  },
  {
   "cell_type": "code",
   "execution_count": 4,
   "metadata": {},
   "outputs": [],
   "source": [
    "#Normalizing the land area array by dividing it by the minimul value in the array\n",
    "ufo['land_area']= ufo['land_area']/ufo['land_area'].min()"
   ]
  },
  {
   "cell_type": "code",
   "execution_count": 5,
   "metadata": {
    "collapsed": true
   },
   "outputs": [],
   "source": [
    "#Defining a new drop down\n",
    "new_dropdown = Dropdown(value=1, options={'Total sightings': 1, 'Total time': 2})\n",
    "#Defining a check box\n",
    "normalize= Checkbox(value=False,description='Normalize',disabled=False)"
   ]
  },
  {
   "cell_type": "code",
   "execution_count": 6,
   "metadata": {},
   "outputs": [],
   "source": [
    "#definitions related to the map\n",
    "map_styles = {'scales': {'projection': bqplot.AlbersUSA(),\n",
    "                         'color': bqplot.ColorScale(colors=[\"AliceBlue\",\"BlueViolet\"])}}\n",
    "\n",
    "tt = Tooltip(fields=['id', 'name', 'color'], labels=['FIPS code', 'State', 'Total number of sightings'])\n",
    "states_map = bqplot.Map(map_data=bqplot.topo_load('map_data/USStatesMap.json'),**map_styles,tooltip=tt,colors:{'default'}\n",
    "        selected_styles= {'selected_fill': 'Black', 'selected_stroke': 'White', 'selected_stroke_width': 4.0},\n",
    "        unselected_styles={'unselected_fill':None},colors={'default_color':'#eef3fe'},\n",
    "        hovered_styles= {'hovered_fill': 'White', 'hovered_stroke': 'Black', 'hovered_stroke_width':4.0})\n",
    "color_scale =bqplot.ColorScale(colors=[\"AliceBlue\",\"BlueViolet\"])\n",
    "axis = ColorAxis(scale=color_scale,tick_style={'font-size': '25px','font-weight':'bold','font-family':'serif'})\n",
    "map_fig = bqplot.Figure(marks=[states_map],title_style={'font-size': '20px','font-weight':'bold','font-family':'serif'},\n",
    "                        title='UFO sightings in the United States',\n",
    "                        axes=[axis],background_style={'fill':'White'})\n",
    "map_fig.fig_margin={'top':0,'bottom':0,'left':0,'right':0}\n",
    "#Defining interations for the map\n",
    "states_map.interactions = {'click': \"select\", 'hover': 'tooltip'}"
   ]
  },
  {
   "cell_type": "code",
   "execution_count": 7,
   "metadata": {},
   "outputs": [],
   "source": [
    "#defining line plot\n",
    "x_sc = LinearScale()\n",
    "y_sc = LinearScale()\n",
    "scatter_chart = Lines(scales= {'x': x_sc, 'y': y_sc},colors=['#984ea3'],labels_visibility='label',marker='circle')\n",
    "ax_x = Axis(scale=x_sc,label='Year',label_color='#939092',label_offset='35px',grid_color='White',tick_style={'font-size': '15px','font-weight':'bold','font-family':'serif'})\n",
    "ax_y = Axis(scale=y_sc, orientation='vertical',label_color='#939092',label_offset='35px',grid_color='White',tick_style={'font-size': '15px','font-weight':'bold','font-family':'serif'})\n",
    "#Interactivity for the plot\n",
    "intsel_fast = FastIntervalSelector(scale=x_sc,color=\"black\")\n",
    "\n",
    "scatter_figure = Figure(axes=[ax_x, ax_y], marks=[scatter_chart],interaction=intsel_fast,title_style={'font-size': '15px','font-weight':'bold','font-family':'serif'},\n",
    "                        label_location='middle',background_style={'fill':'#f1ecce'})#b7d8b6"
   ]
  },
  {
   "cell_type": "code",
   "execution_count": 8,
   "metadata": {
    "collapsed": true
   },
   "outputs": [],
   "source": [
    "#HTML for displaying the selected years\n",
    "db_fast = HTML('<h1 style=\"color:black;font-family:serif;font-size:160%;font-weight:bold;\">Years : 1910 to 2015</h1>')\n",
    "db_fast.layout={'width':'100%','margin':'1px 3px 0px 0px','height':'10%','align_items':'stretch'}"
   ]
  },
  {
   "cell_type": "code",
   "execution_count": 9,
   "metadata": {
    "collapsed": true
   },
   "outputs": [],
   "source": [
    "# Function to update the plot everytime a new state is selected. This function is also reused for plotting normalized values.\n",
    "def update_plot(fips,normalize):\n",
    "    df_count = ufo[ufo['fips']==fips]\n",
    "    land_area = df_count['land_area'].iloc[0]\n",
    "               \n",
    "    if new_dropdown.get_interact_value() == 1:\n",
    "        df_count = df_count.groupby(\"year\",as_index=False)['duration_hours'].count()\n",
    "        if normalize == True:\n",
    "            normalized_values = df_count['duration_hours']/land_area\n",
    "            scatter_chart.y = normalized_values\n",
    "        else:\n",
    "            scatter_chart.y = df_count['duration_hours']\n",
    "    else:\n",
    "        df_count = df_count.groupby(\"year\",as_index=False)['duration_hours'].sum()\n",
    "        if normalize == True:\n",
    "            normalized_values = df_count['duration_hours']/land_area\n",
    "            scatter_chart.y = normalized_values\n",
    "        else:\n",
    "            scatter_chart.y = df_count['duration_hours']\n",
    "\n",
    "    scatter_chart.set_trait(\"x\",df_count['year'])\n",
    "    df_state = ufo[ufo['fips'] == fips]\n",
    "    #setting the title of the scatter plot everytime a different state is selected\n",
    "    state = us.states.lookup(df_state.iloc[0].state.upper())\n",
    "    scatter_figure.set_trait('title',\"UFO sightings in {} from 1910-2010\".format(state.name))"
   ]
  },
  {
   "cell_type": "code",
   "execution_count": 10,
   "metadata": {},
   "outputs": [],
   "source": [
    "def get_fips_count(change,ufo,normalize):\n",
    "    group = perform_filtering(ufo,change)\n",
    "    fips_count = check_normalize(normalize,group['duration_hours'],group['fips'],group['land_area'])\n",
    "    update_mapstyles(fips_count)    \n",
    "    #Updating the plot\n",
    "    if states_map.selected:\n",
    "        update_plot(states_map.selected[0],normalize)\n",
    "\n",
    "\n",
    "def perform_filtering(ufo,change):\n",
    "    if change == 1:\n",
    "        group = ufo.groupby(['fips','land_area'],as_index=False).count()\n",
    "        map_fig.set_trait('title','Total UFO sightings in the United States')\n",
    "        #setting the property of the plot according to the selected criteria\n",
    "        ax_y.set_trait('label','Total Number of sightings')\n",
    "        #setting the label of the tooltip according to the selected combobox value\n",
    "        tt.set_trait('labels',['FIPS code', 'State', 'Total number of sightings'])\n",
    "    else:\n",
    "        group = ufo.groupby(['fips','land_area'],as_index=False).sum().astype(int)\n",
    "        map_fig.set_trait('title','Total duration of UFO sightings in the United States')\n",
    "        #setting the property of the scatter plot according to the selected criteria\n",
    "        ax_y.set_trait('label','Total Duration of Sightings in Hours')\n",
    "        #setting the label of the tooltip according to the selected combobox value\n",
    "        tt.set_trait('labels',['FIPS code', 'State', 'Total duration in hours'])\n",
    "    return group\n",
    "        \n",
    "#Check if the data has to be normalized    \n",
    "def check_normalize(normalize,duration,fips,land_area):\n",
    "        if normalize == True:\n",
    "            normalized= normalize_dataset(duration,land_area)\n",
    "            fips_count = zip(fips,normalized.astype(int))\n",
    "            set_color_scale(normalized)\n",
    "        else:\n",
    "            fips_count = zip(fips,duration.astype(int))\n",
    "            set_color_scale(duration)\n",
    "        return fips_count\n",
    "\n",
    "#set the range of the color scale\n",
    "def set_color_scale(duration_data):\n",
    "    color_scale.set_trait('max',float(duration_data.max()))\n",
    "    color_scale.set_trait('min',float(duration_data.min()))\n",
    "\n",
    "#Normalize the dataset by dividing it by land area\n",
    "def normalize_dataset(duration,land_area):\n",
    "    normalized_set = (duration.astype(float)/land_area.astype(float))\n",
    "    return normalized_set\n",
    "\n",
    "#call back function when the drop down is changed\n",
    "def watch_dropdown(change):\n",
    "    intsel_fast.selected = None\n",
    "    states_map.selected = None\n",
    "    db_fast.value = '<h1 style=\"color:black;font-family:serif;font-size:160%;font-weight:bold;\">Years:1910 to 2015</h1>'\n",
    "    update_plot(17,normalize.get_interact_value())\n",
    "    return get_fips_count(change.new,ufo,normalize.get_interact_value())\n",
    "\n",
    "#Upsate the map by passing the color property\n",
    "def update_mapstyles(fips_count):\n",
    "    states_map.set_trait('color',dict(fips_count))\n",
    "\n",
    "new_dropdown.observe(watch_dropdown, names=['value'])\n",
    "\n",
    "#setting a default value for the plot without normalizing\n",
    "get_fips_count(1,ufo,normalize.get_interact_value())\n"
   ]
  },
  {
   "cell_type": "code",
   "execution_count": 11,
   "metadata": {},
   "outputs": [],
   "source": [
    "#Call back function when the selected index changes\n",
    "def selected_index_changed(change):\n",
    "    #Making sure that the previous state is deselected\n",
    "    scatter_figure.visible=True\n",
    "    if change.old is None and change.new is not []:\n",
    "        states_map.set_trait(\"selected\",change.new)\n",
    "        update_plot(change.new,normalize.get_interact_value())\n",
    "    elif len(change.old) == 0 or change.new is None or change.new == []:\n",
    "        states_map.set_trait(\"selected\",None)\n",
    "    else:\n",
    "        states_map.set_trait(\"selected\",[change.new[len(change.new)-1]])\n",
    "        update_plot(change.new[len(change.new)-1],normalize.get_interact_value())\n",
    "\n",
    "#by default show the sightings for illinois\n",
    "states_map.observe(selected_index_changed, names=['selected'])\n",
    "update_plot(fips=17,normalize=False)"
   ]
  },
  {
   "cell_type": "code",
   "execution_count": 12,
   "metadata": {
    "collapsed": true
   },
   "outputs": [],
   "source": [
    "#HTML for showing the selected years\n",
    "db_fast = HTML('<h1 style=\"color:black;font-family:serif;font-size:160%;font-weight:bold;\">Years : 1910 to 2015</h1>')\n",
    "db_fast.layout={'width':'100%','margin':'1px 3px 0px 0px','height':'10%','align_items':'stretch'}"
   ]
  },
  {
   "cell_type": "code",
   "execution_count": 13,
   "metadata": {
    "collapsed": true
   },
   "outputs": [],
   "source": [
    "#Call back function of the fast interval changer\n",
    "def fast_interval_change_callback(change):\n",
    "    if change.new is not None and len(change.new) == 2:\n",
    "        states_map.selected = None\n",
    "        df_selected_years = update_ufo_dataset(int(change.new[0]),int(change.new[1]))\n",
    "        get_fips_count(new_dropdown.get_interact_value(),df_selected_years,normalize.get_interact_value())\n",
    "        db_fast.value = '<h1 style=\"color:black;font-family:serif;font-size:160%;font-weight:bold;\">Years: '+str(int(change.new[0]))+ ' to ' +str(int(change.new[1]))+'</h1>'\n",
    "    \n",
    "def update_ufo_dataset(limit_a,limit_b):\n",
    "    df_selected_years=ufo.loc[(ufo[\"year\"] >= int(limit_a))& (ufo[\"year\"] <= int(limit_b)),]\n",
    "    return df_selected_years\n",
    "#observe method for keeping track of the changes in the selected intervals\n",
    "intsel_fast.observe(fast_interval_change_callback, names=['selected'])\n"
   ]
  },
  {
   "cell_type": "code",
   "execution_count": 14,
   "metadata": {},
   "outputs": [],
   "source": [
    "#Call back function on click of the normalize button\n",
    "def normalize_data(change):\n",
    "    states_map.selected = None\n",
    "    selected_years =intsel_fast.selected\n",
    "    if selected_years is not None:\n",
    "        if selected_years.any() is not None and len(selected_years) == 2:\n",
    "            updated_dataset = update_ufo_dataset(int(selected_years[0]),int(selected_years[1]))\n",
    "        else:\n",
    "            updated_dataset = ufo\n",
    "    else:\n",
    "        updated_dataset = ufo\n",
    "    get_fips_count(new_dropdown.get_interact_value(),updated_dataset,change.new)\n",
    "            \n",
    "normalize.observe(normalize_data, names=['value'])\n"
   ]
  },
  {
   "cell_type": "code",
   "execution_count": 15,
   "metadata": {},
   "outputs": [
    {
     "data": {
      "text/plain": [
       "A Jupyter Widget"
      ]
     },
     "metadata": {},
     "output_type": "display_data"
    }
   ],
   "source": [
    "VBox([HBox([new_dropdown,HBox([normalize])]),HBox([map_fig,HBox([db_fast])],layout={'width':'100%'}),scatter_figure])"
   ]
  },
  {
   "cell_type": "code",
   "execution_count": null,
   "metadata": {
    "collapsed": true
   },
   "outputs": [],
   "source": []
  },
  {
   "cell_type": "code",
   "execution_count": null,
   "metadata": {
    "collapsed": true
   },
   "outputs": [],
   "source": []
  }
 ],
 "metadata": {
  "kernelspec": {
   "display_name": "Python 3",
   "language": "python",
   "name": "python3"
  },
  "language_info": {
   "codemirror_mode": {
    "name": "ipython",
    "version": 3
   },
   "file_extension": ".py",
   "mimetype": "text/x-python",
   "name": "python",
   "nbconvert_exporter": "python",
   "pygments_lexer": "ipython3",
   "version": "3.6.3"
  }
 },
 "nbformat": 4,
 "nbformat_minor": 2
}
